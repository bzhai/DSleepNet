{
 "cells": [
  {
   "cell_type": "code",
   "execution_count": 1,
   "id": "cb567e26",
   "metadata": {
    "is_executing": true
   },
   "outputs": [],
   "source": [
    "import matplotlib.pyplot as plt\n",
    "import os, sys\n",
    "module_path = os.path.abspath(os.path.join(os.pardir, os.pardir))\n",
    "if module_path not in sys.path:\n",
    "    sys.path.append(module_path)\n",
    "module_path = os.path.abspath(os.path.join('..'))\n",
    "if module_path not in sys.path:\n",
    "    sys.path.append(module_path)"
   ]
  },
  {
   "cell_type": "code",
   "execution_count": 2,
   "id": "e7614988",
   "metadata": {
    "ExecuteTime": {
     "end_time": "2023-12-28T19:51:07.129385400Z",
     "start_time": "2023-12-28T19:51:06.127425200Z"
    }
   },
   "outputs": [],
   "source": [
    "import pandas as pd\n",
    "import numpy as np\n",
    "import collections"
   ]
  },
  {
   "cell_type": "code",
   "execution_count": 3,
   "id": "d129055a",
   "metadata": {
    "ExecuteTime": {
     "end_time": "2023-12-28T19:51:07.145012900Z",
     "start_time": "2023-12-28T19:51:07.129385400Z"
    }
   },
   "outputs": [],
   "source": [
    "plt.rcParams['font.size'] = 14.4"
   ]
  },
  {
   "cell_type": "code",
   "execution_count": 4,
   "id": "0915cfcc",
   "metadata": {
    "ExecuteTime": {
     "end_time": "2023-12-28T19:51:48.988755700Z",
     "start_time": "2023-12-28T19:51:48.973131800Z"
    }
   },
   "outputs": [],
   "source": [
    "# from data_handler.dis_train_norm_dataloader import get_mesa_dis_dict\n",
    "from sleep_stage_config import Config"
   ]
  },
  {
   "cell_type": "code",
   "execution_count": 5,
   "id": "f2fc3c98",
   "metadata": {
    "ExecuteTime": {
     "end_time": "2023-12-28T19:51:50.450587800Z",
     "start_time": "2023-12-28T19:51:50.434956800Z"
    }
   },
   "outputs": [],
   "source": [
    "cfg = Config()"
   ]
  },
  {
   "cell_type": "code",
   "execution_count": 6,
   "id": "87563948",
   "metadata": {
    "ExecuteTime": {
     "end_time": "2023-12-28T19:51:51.691890400Z",
     "start_time": "2023-12-28T19:51:51.629392Z"
    }
   },
   "outputs": [],
   "source": [
    "import itertools\n",
    "import plotly.express as px"
   ]
  },
  {
   "cell_type": "code",
   "execution_count": 7,
   "id": "63ed7a47",
   "metadata": {},
   "outputs": [],
   "source": [
    "def my_fmt(x):\n",
    "    assert np.sum(x) > 0, print(\"All values are zero\")\n",
    "    print(x)   \n",
    "    return '{:.0f}%\\n({:.0f})'.format(x, np.round(total*x/100))\n",
    "\n",
    "\n",
    "# values = pd.Series([False, False, True, True, True, True])\n",
    "# v_counts = values.value_counts()\n",
    "# total = len(values)\n",
    "# fig = plt.figure()\n",
    "# plt.pie(v_counts, labels=v_counts.index, autopct=my_fmt, shadow=True);\n"
   ]
  },
  {
   "cell_type": "code",
   "execution_count": 8,
   "id": "cb7e641f",
   "metadata": {},
   "outputs": [],
   "source": [
    "id_df = pd.read_csv(cfg.TRAIN_TEST_SPLIT)"
   ]
  },
  {
   "cell_type": "code",
   "execution_count": 9,
   "id": "55cb1a35",
   "metadata": {},
   "outputs": [],
   "source": [
    "valid_id = id_df.uids.values.tolist()"
   ]
  },
  {
   "cell_type": "code",
   "execution_count": 10,
   "id": "e31c8a58",
   "metadata": {},
   "outputs": [],
   "source": [
    "a4_size = (11.69/2,8.27/2)"
   ]
  },
  {
   "cell_type": "code",
   "execution_count": 13,
   "id": "f13d831f",
   "metadata": {},
   "outputs": [],
   "source": [
    "df = pd.read_csv(fr\"./mesa_admin_df.csv\")\n",
    "df = df[df.mesaid.isin(valid_id)]"
   ]
  },
  {
   "cell_type": "code",
   "execution_count": 14,
   "id": "947eb047",
   "metadata": {
    "scrolled": true
   },
   "outputs": [
    {
     "data": {
      "text/html": [
       "<div>\n",
       "<style scoped>\n",
       "    .dataframe tbody tr th:only-of-type {\n",
       "        vertical-align: middle;\n",
       "    }\n",
       "\n",
       "    .dataframe tbody tr th {\n",
       "        vertical-align: top;\n",
       "    }\n",
       "\n",
       "    .dataframe thead th {\n",
       "        text-align: right;\n",
       "    }\n",
       "</style>\n",
       "<table border=\"1\" class=\"dataframe\">\n",
       "  <thead>\n",
       "    <tr style=\"text-align: right;\">\n",
       "      <th></th>\n",
       "      <th>mesaid</th>\n",
       "      <th>sleepage5c</th>\n",
       "      <th>age_group</th>\n",
       "      <th>bmi5c</th>\n",
       "      <th>bmicat5c</th>\n",
       "      <th>ahi4pa5</th>\n",
       "      <th>ahi_group</th>\n",
       "      <th>gender1</th>\n",
       "      <th>file_name</th>\n",
       "    </tr>\n",
       "  </thead>\n",
       "  <tbody>\n",
       "    <tr>\n",
       "      <th>0</th>\n",
       "      <td>1</td>\n",
       "      <td>70</td>\n",
       "      <td>2</td>\n",
       "      <td>22.010834</td>\n",
       "      <td>0</td>\n",
       "      <td>23.023256</td>\n",
       "      <td>2</td>\n",
       "      <td>0</td>\n",
       "      <td>0001_combined.csv</td>\n",
       "    </tr>\n",
       "    <tr>\n",
       "      <th>1</th>\n",
       "      <td>2</td>\n",
       "      <td>83</td>\n",
       "      <td>3</td>\n",
       "      <td>21.897972</td>\n",
       "      <td>0</td>\n",
       "      <td>7.379679</td>\n",
       "      <td>1</td>\n",
       "      <td>0</td>\n",
       "      <td>0002_combined.csv</td>\n",
       "    </tr>\n",
       "    <tr>\n",
       "      <th>2</th>\n",
       "      <td>6</td>\n",
       "      <td>57</td>\n",
       "      <td>0</td>\n",
       "      <td>56.007175</td>\n",
       "      <td>3</td>\n",
       "      <td>58.324022</td>\n",
       "      <td>3</td>\n",
       "      <td>0</td>\n",
       "      <td>0006_combined.csv</td>\n",
       "    </tr>\n",
       "    <tr>\n",
       "      <th>3</th>\n",
       "      <td>14</td>\n",
       "      <td>60</td>\n",
       "      <td>1</td>\n",
       "      <td>31.448358</td>\n",
       "      <td>2</td>\n",
       "      <td>9.241706</td>\n",
       "      <td>1</td>\n",
       "      <td>0</td>\n",
       "      <td>0014_combined.csv</td>\n",
       "    </tr>\n",
       "    <tr>\n",
       "      <th>4</th>\n",
       "      <td>16</td>\n",
       "      <td>57</td>\n",
       "      <td>0</td>\n",
       "      <td>23.651947</td>\n",
       "      <td>0</td>\n",
       "      <td>3.696682</td>\n",
       "      <td>0</td>\n",
       "      <td>0</td>\n",
       "      <td>0016_combined.csv</td>\n",
       "    </tr>\n",
       "  </tbody>\n",
       "</table>\n",
       "</div>"
      ],
      "text/plain": [
       "   mesaid  sleepage5c  age_group      bmi5c  bmicat5c    ahi4pa5  ahi_group  \\\n",
       "0       1          70          2  22.010834         0  23.023256          2   \n",
       "1       2          83          3  21.897972         0   7.379679          1   \n",
       "2       6          57          0  56.007175         3  58.324022          3   \n",
       "3      14          60          1  31.448358         2   9.241706          1   \n",
       "4      16          57          0  23.651947         0   3.696682          0   \n",
       "\n",
       "   gender1          file_name  \n",
       "0        0  0001_combined.csv  \n",
       "1        0  0002_combined.csv  \n",
       "2        0  0006_combined.csv  \n",
       "3        0  0014_combined.csv  \n",
       "4        0  0016_combined.csv  "
      ]
     },
     "execution_count": 14,
     "metadata": {},
     "output_type": "execute_result"
    }
   ],
   "source": [
    "df.head()"
   ]
  },
  {
   "cell_type": "code",
   "execution_count": 15,
   "id": "4ca55121",
   "metadata": {},
   "outputs": [],
   "source": [
    "group_age = df[['age_group', 'mesaid']].groupby('age_group').count().reset_index().values"
   ]
  },
  {
   "cell_type": "code",
   "execution_count": 16,
   "id": "7692c188",
   "metadata": {},
   "outputs": [],
   "source": [
    "group_age_df = df[['age_group', 'mesaid']].groupby('age_group').count().reset_index().rename(columns={\"mesaid\": \"counts\"})"
   ]
  },
  {
   "cell_type": "code",
   "execution_count": 17,
   "id": "a510fd63",
   "metadata": {},
   "outputs": [],
   "source": [
    "age_dict = {}\n",
    "for g in df.age_group.unique():\n",
    "    age_dict[g] = [df[df['age_group'] == g]['sleepage5c'].min(), df[df['age_group'] == g]['sleepage5c'].max()]"
   ]
  },
  {
   "cell_type": "code",
   "execution_count": 18,
   "id": "48303e9e",
   "metadata": {},
   "outputs": [],
   "source": [
    "group_age_df['age_group'] = group_age_df['age_group'].map(age_dict)"
   ]
  },
  {
   "cell_type": "code",
   "execution_count": 19,
   "id": "b6d731ef",
   "metadata": {},
   "outputs": [
    {
     "data": {
      "text/html": [
       "<div>\n",
       "<style scoped>\n",
       "    .dataframe tbody tr th:only-of-type {\n",
       "        vertical-align: middle;\n",
       "    }\n",
       "\n",
       "    .dataframe tbody tr th {\n",
       "        vertical-align: top;\n",
       "    }\n",
       "\n",
       "    .dataframe thead th {\n",
       "        text-align: right;\n",
       "    }\n",
       "</style>\n",
       "<table border=\"1\" class=\"dataframe\">\n",
       "  <thead>\n",
       "    <tr style=\"text-align: right;\">\n",
       "      <th></th>\n",
       "      <th>age_group</th>\n",
       "      <th>counts</th>\n",
       "    </tr>\n",
       "  </thead>\n",
       "  <tbody>\n",
       "    <tr>\n",
       "      <th>0</th>\n",
       "      <td>[54, 59]</td>\n",
       "      <td>291</td>\n",
       "    </tr>\n",
       "    <tr>\n",
       "      <th>1</th>\n",
       "      <td>[60, 69]</td>\n",
       "      <td>663</td>\n",
       "    </tr>\n",
       "    <tr>\n",
       "      <th>2</th>\n",
       "      <td>[70, 79]</td>\n",
       "      <td>521</td>\n",
       "    </tr>\n",
       "    <tr>\n",
       "      <th>3</th>\n",
       "      <td>[80, 89]</td>\n",
       "      <td>253</td>\n",
       "    </tr>\n",
       "    <tr>\n",
       "      <th>4</th>\n",
       "      <td>[90, 94]</td>\n",
       "      <td>15</td>\n",
       "    </tr>\n",
       "  </tbody>\n",
       "</table>\n",
       "</div>"
      ],
      "text/plain": [
       "  age_group  counts\n",
       "0  [54, 59]     291\n",
       "1  [60, 69]     663\n",
       "2  [70, 79]     521\n",
       "3  [80, 89]     253\n",
       "4  [90, 94]      15"
      ]
     },
     "execution_count": 19,
     "metadata": {},
     "output_type": "execute_result"
    }
   ],
   "source": [
    "group_age_df"
   ]
  },
  {
   "cell_type": "code",
   "execution_count": 20,
   "id": "44c70c9d",
   "metadata": {
    "scrolled": true
   },
   "outputs": [],
   "source": [
    "age_dict = collections.OrderedDict(sorted(age_dict.items()))"
   ]
  },
  {
   "cell_type": "code",
   "execution_count": 21,
   "id": "ccc83ec8",
   "metadata": {},
   "outputs": [],
   "source": [
    "age_list = []\n",
    "for _, x in (age_dict.items()):\n",
    "    age_list.append(x)"
   ]
  },
  {
   "cell_type": "code",
   "execution_count": 22,
   "id": "20ede227",
   "metadata": {},
   "outputs": [
    {
     "data": {
      "text/plain": [
       "[[54, 59], [60, 69], [70, 79], [80, 89], [90, 94]]"
      ]
     },
     "execution_count": 22,
     "metadata": {},
     "output_type": "execute_result"
    }
   ],
   "source": [
    "age_list "
   ]
  },
  {
   "cell_type": "code",
   "execution_count": 23,
   "id": "c399a214",
   "metadata": {
    "scrolled": true
   },
   "outputs": [
    {
     "data": {
      "text/plain": [
       "[[50, 59], [60, 69], [70, 79], [80, 89], [90, 99]]"
      ]
     },
     "execution_count": 23,
     "metadata": {},
     "output_type": "execute_result"
    }
   ],
   "source": [
    "age_list[0][0] = 50\n",
    "age_list[-1][-1] = 99\n",
    "age_list"
   ]
  },
  {
   "cell_type": "code",
   "execution_count": 31,
   "id": "d87d40be",
   "metadata": {},
   "outputs": [
    {
     "data": {
      "text/plain": [
       "array([[  0, 291],\n",
       "       [  1, 663],\n",
       "       [  2, 521],\n",
       "       [  3, 253],\n",
       "       [  4,  15]], dtype=int64)"
      ]
     },
     "execution_count": 31,
     "metadata": {},
     "output_type": "execute_result"
    }
   ],
   "source": [
    "group_age"
   ]
  },
  {
   "cell_type": "code",
   "execution_count": 25,
   "id": "f7fcba21",
   "metadata": {},
   "outputs": [
    {
     "data": {
      "text/plain": [
       "1743"
      ]
     },
     "execution_count": 25,
     "metadata": {},
     "output_type": "execute_result"
    }
   ],
   "source": [
    "np.sum(group_age[:,1])"
   ]
  },
  {
   "cell_type": "code",
   "execution_count": 28,
   "id": "416adaee",
   "metadata": {},
   "outputs": [],
   "source": [
    "def plot_pie(x, label_ls, fig_size, path_to_file):\n",
    "    fig = plt.figure(figsize=fig_size)\n",
    "    ax = fig.add_axes([0,0,1,1])\n",
    "    ax.axis('equal')\n",
    "    ax.pie(x, labels = label_ls,autopct=my_fmt) # '%1.2f%%'\n",
    "    \n",
    "    plt.savefig(path_to_file, bbox_inches='tight', dpi=300)\n",
    "    plt.show()"
   ]
  },
  {
   "cell_type": "code",
   "execution_count": 29,
   "id": "dc3ce309",
   "metadata": {},
   "outputs": [],
   "source": [
    "total = 1743"
   ]
  },
  {
   "cell_type": "code",
   "execution_count": 30,
   "id": "5b3c235c",
   "metadata": {},
   "outputs": [
    {
     "data": {
      "text/plain": [
       "[[50, 59], [60, 69], [70, 79], [80, 89], [90, 99]]"
      ]
     },
     "execution_count": 30,
     "metadata": {},
     "output_type": "execute_result"
    }
   ],
   "source": [
    "age_list"
   ]
  },
  {
   "cell_type": "markdown",
   "id": "9aac003e",
   "metadata": {},
   "source": [
    "### Plot the Age Pie ##"
   ]
  },
  {
   "cell_type": "code",
   "execution_count": 26,
   "id": "4a684942",
   "metadata": {},
   "outputs": [],
   "source": [
    "age_plt_file = fr\"L:\\GoogleDrive\\$Collaborators\\Huy\\JBHI\\major revision\\age_group.png\""
   ]
  },
  {
   "cell_type": "code",
   "execution_count": 108,
   "id": "224cd225",
   "metadata": {},
   "outputs": [
    {
     "data": {
      "text/plain": [
       "array([291, 663, 521, 253,  15], dtype=int64)"
      ]
     },
     "execution_count": 108,
     "metadata": {},
     "output_type": "execute_result"
    }
   ],
   "source": [
    "group_age[:, 1]"
   ]
  },
  {
   "cell_type": "code",
   "execution_count": 32,
   "id": "d38fcb07-ec0d-4ece-9bfe-166ab804179a",
   "metadata": {},
   "outputs": [
    {
     "data": {
      "text/plain": [
       "[[50, 59], [60, 69], [70, 79], [80, 89], [90, 99]]"
      ]
     },
     "execution_count": 32,
     "metadata": {},
     "output_type": "execute_result"
    }
   ],
   "source": [
    "age_list"
   ]
  },
  {
   "cell_type": "code",
   "execution_count": 100,
   "id": "7691cd8d-e1a7-478e-b282-3cf389088b76",
   "metadata": {},
   "outputs": [],
   "source": [
    "group_age[1,1]\n",
    "group_age_per = 100*np.round(group_age[:,1]/np.sum(group_age[:,1]),2)"
   ]
  },
  {
   "cell_type": "code",
   "execution_count": 101,
   "id": "94a1d8c2-b766-443a-b605-e87a961eb2f5",
   "metadata": {},
   "outputs": [
    {
     "data": {
      "text/plain": [
       "array([17., 38., 30., 15.,  1.])"
      ]
     },
     "execution_count": 101,
     "metadata": {},
     "output_type": "execute_result"
    }
   ],
   "source": [
    "group_age_per"
   ]
  },
  {
   "cell_type": "code",
   "execution_count": 74,
   "id": "1fd4fd3a-2756-4b87-84ae-8a2b0114c6d4",
   "metadata": {},
   "outputs": [
    {
     "data": {
      "text/plain": [
       "array([0.16695353])"
      ]
     },
     "execution_count": 74,
     "metadata": {},
     "output_type": "execute_result"
    }
   ],
   "source": [
    "group_age_per[:1]"
   ]
  },
  {
   "cell_type": "code",
   "execution_count": 246,
   "id": "6737e12c-21b9-41f7-afe2-440fde971275",
   "metadata": {
    "scrolled": true
   },
   "outputs": [],
   "source": [
    "def plot_stacked_bar(percentages, counts, categories, color_set, x_label, path_to_file):\n",
    "    \n",
    "    # Initialize figure and ax\n",
    "    fig, ax = plt.subplots(figsize=(4,5))\n",
    "    fig.patch.set_facecolor('white') # set background to white\n",
    "    \n",
    "    # Create stacked bars\n",
    "    bottom = 0\n",
    "    for i, (percentage, count) in enumerate(zip(percentages, counts)):\n",
    "        bar = plt.bar(x_label, percentage, bottom=bottom, color=color_set[i])\n",
    "        bottom += percentage  # !!!!! this is important, to make sure the stack high position is accumulated.\n",
    "    \n",
    "        # Add label in the middle of each bar\n",
    "        label = f\"{percentage}%({count}), {categories[i]}\"\n",
    "        plt.text(x_label, bottom - percentage / 2, label, ha='center', va='center',fontsize=16)\n",
    "    \n",
    "    # Remove borders\n",
    "    for spine in ax.spines.values():\n",
    "        spine.set_visible(False)\n",
    "    ax.tick_params(axis='x', labelsize=16)  # Set x-tick label size\n",
    "    ax.tick_params(axis='y', labelsize=16)  # Set y-tick label size\n",
    "    # Set x-axis label and keep y-ticks\n",
    "    # plt.xlabel('Age')\n",
    "    # plt.xticks()  # Optional: Rotate x-ticks for better readability\n",
    "    plt.savefig(path_to_file, bbox_inches='tight', dpi=300)\n",
    "    plt.show()"
   ]
  },
  {
   "cell_type": "code",
   "execution_count": 247,
   "id": "07db6722-d913-43b0-b879-a6f888485059",
   "metadata": {},
   "outputs": [],
   "source": [
    "percentages = [17., 38., 30., 15., 1.]\n",
    "age_ranges = [[50, 59], [60, 69], [70, 79], [80, 89], [90, 99]]\n",
    "counts = [291, 663, 521, 253, 15]\n",
    "categories = ['[54s-59s]', '[60s-69s]', '[70s-79s]', '[80s-89s]', '[90s-99s]']\n",
    "color_set = [\"#f8A12E\", \"#d4667f\",\"#6D9EEB\", \"#A1C591\", \"#FDBE6B\"]"
   ]
  },
  {
   "cell_type": "code",
   "execution_count": 248,
   "id": "4f037c1d-271b-4d45-9b7b-86a974139aa9",
   "metadata": {},
   "outputs": [
    {
     "data": {
      "image/png": "[encoded data removed]",
      "text/plain": [
       "<Figure size 288x360 with 1 Axes>"
      ]
     },
     "metadata": {},
     "output_type": "display_data"
    }
   ],
   "source": [
    "plot_stacked_bar(percentages,  counts, categories, color_set, x_label= \"Age\", path_to_file= age_plt_file)"
   ]
  },
  {
   "cell_type": "code",
   "execution_count": 213,
   "id": "db0f805e",
   "metadata": {},
   "outputs": [],
   "source": [
    "# plot_pie(group_age[:,1], age_list, a4_size, age_plt_file)"
   ]
  },
  {
   "cell_type": "markdown",
   "id": "741d91ec",
   "metadata": {},
   "source": [
    "## Let us do the BMI"
   ]
  },
  {
   "cell_type": "code",
   "execution_count": 214,
   "id": "5845aad8",
   "metadata": {},
   "outputs": [],
   "source": [
    "bmi_plt_file = fr\"L:\\GoogleDrive\\$Collaborators\\Huy\\JBHI\\major revision\\bmi_group.png\""
   ]
  },
  {
   "cell_type": "code",
   "execution_count": 215,
   "id": "3d8a4073",
   "metadata": {},
   "outputs": [],
   "source": [
    "bmi_dict ={0: \"[0, 25)\", 1: \"[25, 30)\", 2: \"[30, 40)\", 3: \"$\\geq$ 40\"}"
   ]
  },
  {
   "cell_type": "code",
   "execution_count": 216,
   "id": "3756a219",
   "metadata": {},
   "outputs": [],
   "source": [
    "group_bmi_df = df[['bmicat5c', 'mesaid']].groupby('bmicat5c').count().reset_index().rename(columns={\"mesaid\": \"counts\"})\n",
    "group_bmi_df['bmicat5c'] = group_bmi_df['bmicat5c'].map(bmi_dict)"
   ]
  },
  {
   "cell_type": "code",
   "execution_count": 217,
   "id": "a9c8b6d5",
   "metadata": {},
   "outputs": [
    {
     "data": {
      "text/html": [
       "<div>\n",
       "<style scoped>\n",
       "    .dataframe tbody tr th:only-of-type {\n",
       "        vertical-align: middle;\n",
       "    }\n",
       "\n",
       "    .dataframe tbody tr th {\n",
       "        vertical-align: top;\n",
       "    }\n",
       "\n",
       "    .dataframe thead th {\n",
       "        text-align: right;\n",
       "    }\n",
       "</style>\n",
       "<table border=\"1\" class=\"dataframe\">\n",
       "  <thead>\n",
       "    <tr style=\"text-align: right;\">\n",
       "      <th></th>\n",
       "      <th>bmicat5c</th>\n",
       "      <th>counts</th>\n",
       "    </tr>\n",
       "  </thead>\n",
       "  <tbody>\n",
       "    <tr>\n",
       "      <th>0</th>\n",
       "      <td>[0, 25)</td>\n",
       "      <td>457</td>\n",
       "    </tr>\n",
       "    <tr>\n",
       "      <th>1</th>\n",
       "      <td>[25, 30)</td>\n",
       "      <td>668</td>\n",
       "    </tr>\n",
       "    <tr>\n",
       "      <th>2</th>\n",
       "      <td>[30, 40)</td>\n",
       "      <td>553</td>\n",
       "    </tr>\n",
       "    <tr>\n",
       "      <th>3</th>\n",
       "      <td>$\\geq$ 40</td>\n",
       "      <td>65</td>\n",
       "    </tr>\n",
       "  </tbody>\n",
       "</table>\n",
       "</div>"
      ],
      "text/plain": [
       "    bmicat5c  counts\n",
       "0    [0, 25)     457\n",
       "1   [25, 30)     668\n",
       "2   [30, 40)     553\n",
       "3  $\\geq$ 40      65"
      ]
     },
     "execution_count": 217,
     "metadata": {},
     "output_type": "execute_result"
    }
   ],
   "source": [
    "group_bmi_df"
   ]
  },
  {
   "cell_type": "code",
   "execution_count": 218,
   "id": "6b18881c-013b-4eac-abbc-7ee947e36569",
   "metadata": {},
   "outputs": [],
   "source": [
    "group_bmi_df[\"Percentage\"] = np.round(group_bmi_df[\"counts\"]/ group_bmi_df[\"counts\"].sum()*100)"
   ]
  },
  {
   "cell_type": "code",
   "execution_count": 219,
   "id": "d62a6ec6-7367-4351-a8b2-32172a534ac6",
   "metadata": {},
   "outputs": [],
   "source": [
    "# group_bmi_df = pd.concat([pd.DataFrame({\"bmicat5c\": [0], \"counts\": [0] }), group_bmi_df]).reset_index(drop=True)"
   ]
  },
  {
   "cell_type": "code",
   "execution_count": 220,
   "id": "71d23f32-305b-4288-9370-580d0018a94e",
   "metadata": {
    "scrolled": true
   },
   "outputs": [
    {
     "data": {
      "text/html": [
       "<div>\n",
       "<style scoped>\n",
       "    .dataframe tbody tr th:only-of-type {\n",
       "        vertical-align: middle;\n",
       "    }\n",
       "\n",
       "    .dataframe tbody tr th {\n",
       "        vertical-align: top;\n",
       "    }\n",
       "\n",
       "    .dataframe thead th {\n",
       "        text-align: right;\n",
       "    }\n",
       "</style>\n",
       "<table border=\"1\" class=\"dataframe\">\n",
       "  <thead>\n",
       "    <tr style=\"text-align: right;\">\n",
       "      <th></th>\n",
       "      <th>bmicat5c</th>\n",
       "      <th>counts</th>\n",
       "      <th>Percentage</th>\n",
       "    </tr>\n",
       "  </thead>\n",
       "  <tbody>\n",
       "    <tr>\n",
       "      <th>0</th>\n",
       "      <td>[0, 25)</td>\n",
       "      <td>457</td>\n",
       "      <td>26.0</td>\n",
       "    </tr>\n",
       "    <tr>\n",
       "      <th>1</th>\n",
       "      <td>[25, 30)</td>\n",
       "      <td>668</td>\n",
       "      <td>38.0</td>\n",
       "    </tr>\n",
       "    <tr>\n",
       "      <th>2</th>\n",
       "      <td>[30, 40)</td>\n",
       "      <td>553</td>\n",
       "      <td>32.0</td>\n",
       "    </tr>\n",
       "    <tr>\n",
       "      <th>3</th>\n",
       "      <td>$\\geq$ 40</td>\n",
       "      <td>65</td>\n",
       "      <td>4.0</td>\n",
       "    </tr>\n",
       "  </tbody>\n",
       "</table>\n",
       "</div>"
      ],
      "text/plain": [
       "    bmicat5c  counts  Percentage\n",
       "0    [0, 25)     457        26.0\n",
       "1   [25, 30)     668        38.0\n",
       "2   [30, 40)     553        32.0\n",
       "3  $\\geq$ 40      65         4.0"
      ]
     },
     "execution_count": 220,
     "metadata": {},
     "output_type": "execute_result"
    }
   ],
   "source": [
    "group_bmi_df"
   ]
  },
  {
   "cell_type": "code",
   "execution_count": 249,
   "id": "e01917c2-953a-4e62-91da-5e58fd3edb3d",
   "metadata": {},
   "outputs": [
    {
     "data": {
      "image/png": "[encoded data removed]",
      "text/plain": [
       "<Figure size 288x360 with 1 Axes>"
      ]
     },
     "metadata": {},
     "output_type": "display_data"
    }
   ],
   "source": [
    "plot_stacked_bar(group_bmi_df[\"Percentage\"], group_bmi_df[\"counts\"], group_bmi_df[\"bmicat5c\"], color_set,x_label=\"BMI\", path_to_file= bmi_plt_file)"
   ]
  },
  {
   "cell_type": "code",
   "execution_count": 51,
   "id": "f0731d59",
   "metadata": {},
   "outputs": [
    {
     "name": "stdout",
     "output_type": "stream",
     "text": [
      "26.219162344932556\n",
      "38.32472860813141\n",
      "31.726908683776855\n",
      "3.7292025983333588\n"
     ]
    },
    {
     "data": {
      "image/png": "[encoded data removed]",
      "text/plain": [
       "<Figure size 420.84x297.72 with 1 Axes>"
      ]
     },
     "metadata": {},
     "output_type": "display_data"
    }
   ],
   "source": [
    "# plot_pie(group_bmi_df.counts.values, group_bmi_df.bmicat5c.values, a4_size, bmi_plt_file)"
   ]
  },
  {
   "cell_type": "code",
   "execution_count": 52,
   "id": "ab05e990",
   "metadata": {},
   "outputs": [
    {
     "data": {
      "text/html": [
       "<div>\n",
       "<style scoped>\n",
       "    .dataframe tbody tr th:only-of-type {\n",
       "        vertical-align: middle;\n",
       "    }\n",
       "\n",
       "    .dataframe tbody tr th {\n",
       "        vertical-align: top;\n",
       "    }\n",
       "\n",
       "    .dataframe thead th {\n",
       "        text-align: right;\n",
       "    }\n",
       "</style>\n",
       "<table border=\"1\" class=\"dataframe\">\n",
       "  <thead>\n",
       "    <tr style=\"text-align: right;\">\n",
       "      <th></th>\n",
       "      <th>mesaid</th>\n",
       "      <th>sleepage5c</th>\n",
       "      <th>age_group</th>\n",
       "      <th>bmi5c</th>\n",
       "      <th>bmicat5c</th>\n",
       "      <th>ahi4pa5</th>\n",
       "      <th>ahi_group</th>\n",
       "    </tr>\n",
       "  </thead>\n",
       "  <tbody>\n",
       "    <tr>\n",
       "      <th>0</th>\n",
       "      <td>1</td>\n",
       "      <td>70</td>\n",
       "      <td>2</td>\n",
       "      <td>22.010834</td>\n",
       "      <td>0</td>\n",
       "      <td>23.023256</td>\n",
       "      <td>2</td>\n",
       "    </tr>\n",
       "    <tr>\n",
       "      <th>1</th>\n",
       "      <td>2</td>\n",
       "      <td>83</td>\n",
       "      <td>3</td>\n",
       "      <td>21.897972</td>\n",
       "      <td>0</td>\n",
       "      <td>7.379679</td>\n",
       "      <td>1</td>\n",
       "    </tr>\n",
       "    <tr>\n",
       "      <th>2</th>\n",
       "      <td>6</td>\n",
       "      <td>57</td>\n",
       "      <td>0</td>\n",
       "      <td>56.007175</td>\n",
       "      <td>3</td>\n",
       "      <td>58.324022</td>\n",
       "      <td>3</td>\n",
       "    </tr>\n",
       "    <tr>\n",
       "      <th>5</th>\n",
       "      <td>14</td>\n",
       "      <td>60</td>\n",
       "      <td>1</td>\n",
       "      <td>31.448358</td>\n",
       "      <td>2</td>\n",
       "      <td>9.241706</td>\n",
       "      <td>1</td>\n",
       "    </tr>\n",
       "    <tr>\n",
       "      <th>6</th>\n",
       "      <td>16</td>\n",
       "      <td>57</td>\n",
       "      <td>0</td>\n",
       "      <td>23.651947</td>\n",
       "      <td>0</td>\n",
       "      <td>3.696682</td>\n",
       "      <td>0</td>\n",
       "    </tr>\n",
       "    <tr>\n",
       "      <th>...</th>\n",
       "      <td>...</td>\n",
       "      <td>...</td>\n",
       "      <td>...</td>\n",
       "      <td>...</td>\n",
       "      <td>...</td>\n",
       "      <td>...</td>\n",
       "      <td>...</td>\n",
       "    </tr>\n",
       "    <tr>\n",
       "      <th>2231</th>\n",
       "      <td>6802</td>\n",
       "      <td>65</td>\n",
       "      <td>1</td>\n",
       "      <td>43.312157</td>\n",
       "      <td>3</td>\n",
       "      <td>11.684902</td>\n",
       "      <td>1</td>\n",
       "    </tr>\n",
       "    <tr>\n",
       "      <th>2232</th>\n",
       "      <td>6804</td>\n",
       "      <td>77</td>\n",
       "      <td>2</td>\n",
       "      <td>24.323518</td>\n",
       "      <td>0</td>\n",
       "      <td>28.368201</td>\n",
       "      <td>2</td>\n",
       "    </tr>\n",
       "    <tr>\n",
       "      <th>2233</th>\n",
       "      <td>6807</td>\n",
       "      <td>60</td>\n",
       "      <td>1</td>\n",
       "      <td>28.322188</td>\n",
       "      <td>1</td>\n",
       "      <td>46.582915</td>\n",
       "      <td>3</td>\n",
       "    </tr>\n",
       "    <tr>\n",
       "      <th>2235</th>\n",
       "      <td>6811</td>\n",
       "      <td>79</td>\n",
       "      <td>2</td>\n",
       "      <td>27.725492</td>\n",
       "      <td>1</td>\n",
       "      <td>43.532609</td>\n",
       "      <td>3</td>\n",
       "    </tr>\n",
       "    <tr>\n",
       "      <th>2236</th>\n",
       "      <td>6812</td>\n",
       "      <td>68</td>\n",
       "      <td>1</td>\n",
       "      <td>27.021146</td>\n",
       "      <td>1</td>\n",
       "      <td>9.263158</td>\n",
       "      <td>1</td>\n",
       "    </tr>\n",
       "  </tbody>\n",
       "</table>\n",
       "<p>1743 rows × 7 columns</p>\n",
       "</div>"
      ],
      "text/plain": [
       "      mesaid  sleepage5c  age_group      bmi5c  bmicat5c    ahi4pa5  ahi_group\n",
       "0          1          70          2  22.010834         0  23.023256          2\n",
       "1          2          83          3  21.897972         0   7.379679          1\n",
       "2          6          57          0  56.007175         3  58.324022          3\n",
       "5         14          60          1  31.448358         2   9.241706          1\n",
       "6         16          57          0  23.651947         0   3.696682          0\n",
       "...      ...         ...        ...        ...       ...        ...        ...\n",
       "2231    6802          65          1  43.312157         3  11.684902          1\n",
       "2232    6804          77          2  24.323518         0  28.368201          2\n",
       "2233    6807          60          1  28.322188         1  46.582915          3\n",
       "2235    6811          79          2  27.725492         1  43.532609          3\n",
       "2236    6812          68          1  27.021146         1   9.263158          1\n",
       "\n",
       "[1743 rows x 7 columns]"
      ]
     },
     "execution_count": 52,
     "metadata": {},
     "output_type": "execute_result"
    }
   ],
   "source": [
    "df"
   ]
  },
  {
   "cell_type": "markdown",
   "id": "9c0af5b6",
   "metadata": {},
   "source": [
    "## Plot AHI"
   ]
  },
  {
   "cell_type": "code",
   "execution_count": 222,
   "id": "d484cfb5",
   "metadata": {},
   "outputs": [
    {
     "data": {
      "text/html": [
       "<div>\n",
       "<style scoped>\n",
       "    .dataframe tbody tr th:only-of-type {\n",
       "        vertical-align: middle;\n",
       "    }\n",
       "\n",
       "    .dataframe tbody tr th {\n",
       "        vertical-align: top;\n",
       "    }\n",
       "\n",
       "    .dataframe thead th {\n",
       "        text-align: right;\n",
       "    }\n",
       "</style>\n",
       "<table border=\"1\" class=\"dataframe\">\n",
       "  <thead>\n",
       "    <tr style=\"text-align: right;\">\n",
       "      <th></th>\n",
       "      <th>mesaid</th>\n",
       "      <th>sleepage5c</th>\n",
       "      <th>age_group</th>\n",
       "      <th>bmi5c</th>\n",
       "      <th>bmicat5c</th>\n",
       "      <th>ahi4pa5</th>\n",
       "      <th>ahi_group</th>\n",
       "      <th>gender1</th>\n",
       "    </tr>\n",
       "  </thead>\n",
       "  <tbody>\n",
       "    <tr>\n",
       "      <th>count</th>\n",
       "      <td>295.000000</td>\n",
       "      <td>295.000000</td>\n",
       "      <td>295.000000</td>\n",
       "      <td>295.000000</td>\n",
       "      <td>295.000000</td>\n",
       "      <td>295.000000</td>\n",
       "      <td>295.0</td>\n",
       "      <td>295.000000</td>\n",
       "    </tr>\n",
       "    <tr>\n",
       "      <th>mean</th>\n",
       "      <td>3436.349153</td>\n",
       "      <td>66.745763</td>\n",
       "      <td>1.213559</td>\n",
       "      <td>26.517278</td>\n",
       "      <td>0.816949</td>\n",
       "      <td>2.788726</td>\n",
       "      <td>0.0</td>\n",
       "      <td>0.271186</td>\n",
       "    </tr>\n",
       "    <tr>\n",
       "      <th>std</th>\n",
       "      <td>1977.382174</td>\n",
       "      <td>8.601521</td>\n",
       "      <td>0.935952</td>\n",
       "      <td>5.449821</td>\n",
       "      <td>0.884706</td>\n",
       "      <td>1.373853</td>\n",
       "      <td>0.0</td>\n",
       "      <td>0.445328</td>\n",
       "    </tr>\n",
       "    <tr>\n",
       "      <th>min</th>\n",
       "      <td>16.000000</td>\n",
       "      <td>55.000000</td>\n",
       "      <td>0.000000</td>\n",
       "      <td>17.078289</td>\n",
       "      <td>0.000000</td>\n",
       "      <td>0.000000</td>\n",
       "      <td>0.0</td>\n",
       "      <td>0.000000</td>\n",
       "    </tr>\n",
       "    <tr>\n",
       "      <th>25%</th>\n",
       "      <td>1724.500000</td>\n",
       "      <td>60.000000</td>\n",
       "      <td>1.000000</td>\n",
       "      <td>22.400420</td>\n",
       "      <td>0.000000</td>\n",
       "      <td>1.714286</td>\n",
       "      <td>0.0</td>\n",
       "      <td>0.000000</td>\n",
       "    </tr>\n",
       "    <tr>\n",
       "      <th>50%</th>\n",
       "      <td>3520.000000</td>\n",
       "      <td>64.000000</td>\n",
       "      <td>1.000000</td>\n",
       "      <td>25.233118</td>\n",
       "      <td>1.000000</td>\n",
       "      <td>2.870813</td>\n",
       "      <td>0.0</td>\n",
       "      <td>0.000000</td>\n",
       "    </tr>\n",
       "    <tr>\n",
       "      <th>75%</th>\n",
       "      <td>5123.000000</td>\n",
       "      <td>74.000000</td>\n",
       "      <td>2.000000</td>\n",
       "      <td>30.150876</td>\n",
       "      <td>2.000000</td>\n",
       "      <td>3.923401</td>\n",
       "      <td>0.0</td>\n",
       "      <td>1.000000</td>\n",
       "    </tr>\n",
       "    <tr>\n",
       "      <th>max</th>\n",
       "      <td>6773.000000</td>\n",
       "      <td>90.000000</td>\n",
       "      <td>4.000000</td>\n",
       "      <td>48.985663</td>\n",
       "      <td>3.000000</td>\n",
       "      <td>4.969697</td>\n",
       "      <td>0.0</td>\n",
       "      <td>1.000000</td>\n",
       "    </tr>\n",
       "  </tbody>\n",
       "</table>\n",
       "</div>"
      ],
      "text/plain": [
       "            mesaid  sleepage5c   age_group       bmi5c    bmicat5c  \\\n",
       "count   295.000000  295.000000  295.000000  295.000000  295.000000   \n",
       "mean   3436.349153   66.745763    1.213559   26.517278    0.816949   \n",
       "std    1977.382174    8.601521    0.935952    5.449821    0.884706   \n",
       "min      16.000000   55.000000    0.000000   17.078289    0.000000   \n",
       "25%    1724.500000   60.000000    1.000000   22.400420    0.000000   \n",
       "50%    3520.000000   64.000000    1.000000   25.233118    1.000000   \n",
       "75%    5123.000000   74.000000    2.000000   30.150876    2.000000   \n",
       "max    6773.000000   90.000000    4.000000   48.985663    3.000000   \n",
       "\n",
       "          ahi4pa5  ahi_group     gender1  \n",
       "count  295.000000      295.0  295.000000  \n",
       "mean     2.788726        0.0    0.271186  \n",
       "std      1.373853        0.0    0.445328  \n",
       "min      0.000000        0.0    0.000000  \n",
       "25%      1.714286        0.0    0.000000  \n",
       "50%      2.870813        0.0    0.000000  \n",
       "75%      3.923401        0.0    1.000000  \n",
       "max      4.969697        0.0    1.000000  "
      ]
     },
     "execution_count": 222,
     "metadata": {},
     "output_type": "execute_result"
    }
   ],
   "source": [
    "df[df['ahi_group']==0].describe()"
   ]
  },
  {
   "cell_type": "code",
   "execution_count": 224,
   "id": "2cb9af24",
   "metadata": {},
   "outputs": [],
   "source": [
    "ahi_plt_file = fr\"L:\\GoogleDrive\\$Collaborators\\Huy\\JBHI\\major revision\\ahi_group.png\""
   ]
  },
  {
   "cell_type": "code",
   "execution_count": 225,
   "id": "c09b1aeb",
   "metadata": {},
   "outputs": [],
   "source": [
    "ahi_dict ={0: \"[0, 5)\", 1: \"[5, 15)\", 2: \"[15, 30)\", 3: \"$\\geq$ 30\"}"
   ]
  },
  {
   "cell_type": "code",
   "execution_count": 226,
   "id": "e1f88dbd",
   "metadata": {},
   "outputs": [],
   "source": [
    "group_ahi_df = df[['ahi_group', 'mesaid']].groupby('ahi_group').count().reset_index().rename(columns={\"mesaid\": \"counts\"})\n",
    "group_ahi_df['ahi_group'] = group_ahi_df['ahi_group'].map(ahi_dict)"
   ]
  },
  {
   "cell_type": "code",
   "execution_count": 228,
   "id": "cea44bec-68c2-40ca-8aac-172e54eb0280",
   "metadata": {
    "scrolled": true
   },
   "outputs": [
    {
     "data": {
      "text/html": [
       "<div>\n",
       "<style scoped>\n",
       "    .dataframe tbody tr th:only-of-type {\n",
       "        vertical-align: middle;\n",
       "    }\n",
       "\n",
       "    .dataframe tbody tr th {\n",
       "        vertical-align: top;\n",
       "    }\n",
       "\n",
       "    .dataframe thead th {\n",
       "        text-align: right;\n",
       "    }\n",
       "</style>\n",
       "<table border=\"1\" class=\"dataframe\">\n",
       "  <thead>\n",
       "    <tr style=\"text-align: right;\">\n",
       "      <th></th>\n",
       "      <th>ahi_group</th>\n",
       "      <th>counts</th>\n",
       "    </tr>\n",
       "  </thead>\n",
       "  <tbody>\n",
       "    <tr>\n",
       "      <th>0</th>\n",
       "      <td>[0, 5)</td>\n",
       "      <td>295</td>\n",
       "    </tr>\n",
       "    <tr>\n",
       "      <th>1</th>\n",
       "      <td>[5, 15)</td>\n",
       "      <td>612</td>\n",
       "    </tr>\n",
       "    <tr>\n",
       "      <th>2</th>\n",
       "      <td>[15, 30)</td>\n",
       "      <td>488</td>\n",
       "    </tr>\n",
       "    <tr>\n",
       "      <th>3</th>\n",
       "      <td>$\\geq$ 30</td>\n",
       "      <td>348</td>\n",
       "    </tr>\n",
       "  </tbody>\n",
       "</table>\n",
       "</div>"
      ],
      "text/plain": [
       "   ahi_group  counts\n",
       "0     [0, 5)     295\n",
       "1    [5, 15)     612\n",
       "2   [15, 30)     488\n",
       "3  $\\geq$ 30     348"
      ]
     },
     "execution_count": 228,
     "metadata": {},
     "output_type": "execute_result"
    }
   ],
   "source": [
    "group_ahi_df"
   ]
  },
  {
   "cell_type": "code",
   "execution_count": 229,
   "id": "78816032-05ee-47b3-97f7-35a4be0e2802",
   "metadata": {},
   "outputs": [],
   "source": [
    "group_ahi_df[\"Percentage\"] = np.round(group_ahi_df[\"counts\"]/ group_ahi_df[\"counts\"].sum()*100)"
   ]
  },
  {
   "cell_type": "code",
   "execution_count": 230,
   "id": "e26cb77a-5124-4f6a-9e73-af1595e71bd7",
   "metadata": {},
   "outputs": [
    {
     "data": {
      "text/html": [
       "<div>\n",
       "<style scoped>\n",
       "    .dataframe tbody tr th:only-of-type {\n",
       "        vertical-align: middle;\n",
       "    }\n",
       "\n",
       "    .dataframe tbody tr th {\n",
       "        vertical-align: top;\n",
       "    }\n",
       "\n",
       "    .dataframe thead th {\n",
       "        text-align: right;\n",
       "    }\n",
       "</style>\n",
       "<table border=\"1\" class=\"dataframe\">\n",
       "  <thead>\n",
       "    <tr style=\"text-align: right;\">\n",
       "      <th></th>\n",
       "      <th>ahi_group</th>\n",
       "      <th>counts</th>\n",
       "      <th>Percentage</th>\n",
       "    </tr>\n",
       "  </thead>\n",
       "  <tbody>\n",
       "    <tr>\n",
       "      <th>0</th>\n",
       "      <td>[0, 5)</td>\n",
       "      <td>295</td>\n",
       "      <td>17.0</td>\n",
       "    </tr>\n",
       "    <tr>\n",
       "      <th>1</th>\n",
       "      <td>[5, 15)</td>\n",
       "      <td>612</td>\n",
       "      <td>35.0</td>\n",
       "    </tr>\n",
       "    <tr>\n",
       "      <th>2</th>\n",
       "      <td>[15, 30)</td>\n",
       "      <td>488</td>\n",
       "      <td>28.0</td>\n",
       "    </tr>\n",
       "    <tr>\n",
       "      <th>3</th>\n",
       "      <td>$\\geq$ 30</td>\n",
       "      <td>348</td>\n",
       "      <td>20.0</td>\n",
       "    </tr>\n",
       "  </tbody>\n",
       "</table>\n",
       "</div>"
      ],
      "text/plain": [
       "   ahi_group  counts  Percentage\n",
       "0     [0, 5)     295        17.0\n",
       "1    [5, 15)     612        35.0\n",
       "2   [15, 30)     488        28.0\n",
       "3  $\\geq$ 30     348        20.0"
      ]
     },
     "execution_count": 230,
     "metadata": {},
     "output_type": "execute_result"
    }
   ],
   "source": [
    "group_ahi_df"
   ]
  },
  {
   "cell_type": "code",
   "execution_count": 227,
   "id": "5fa5783b",
   "metadata": {},
   "outputs": [],
   "source": [
    "cmap = plt.get_cmap(\"Pastel1\")\n",
    "cmap_colors = cmap(np.array([1, 2, 3, 4]))"
   ]
  },
  {
   "cell_type": "code",
   "execution_count": 250,
   "id": "1f2a4a61-ca0d-41a5-8569-cbc5dda9ae7b",
   "metadata": {},
   "outputs": [
    {
     "data": {
      "image/png": "[encoded data removed]",
      "text/plain": [
       "<Figure size 288x360 with 1 Axes>"
      ]
     },
     "metadata": {},
     "output_type": "display_data"
    }
   ],
   "source": [
    "plot_stacked_bar(group_ahi_df[\"Percentage\"], group_ahi_df[\"counts\"], group_ahi_df[\"ahi_group\"], color_set,x_label=\"AHI\", path_to_file= ahi_plt_file)"
   ]
  },
  {
   "cell_type": "code",
   "execution_count": 59,
   "id": "f9aa5ef8",
   "metadata": {},
   "outputs": [
    {
     "name": "stdout",
     "output_type": "stream",
     "text": [
      "16.924841701984406\n",
      "35.11187732219696\n",
      "26.85025930404663\n",
      "21.113023161888123\n"
     ]
    },
    {
     "data": {
      "image/png": "[encoded data removed]",
      "text/plain": [
       "<Figure size 420.84x297.72 with 1 Axes>"
      ]
     },
     "metadata": {},
     "output_type": "display_data"
    }
   ],
   "source": [
    "# plot_pie(group_ahi_df.counts.values, group_ahi_df.ahi_group.values, a4_size,ahi_plt_file)"
   ]
  },
  {
   "cell_type": "code",
   "execution_count": 106,
   "id": "c529389a",
   "metadata": {},
   "outputs": [
    {
     "ename": "NameError",
     "evalue": "name 'group_ahi_df' is not defined",
     "output_type": "error",
     "traceback": [
      "\u001B[1;31m---------------------------------------------------------------------------\u001B[0m",
      "\u001B[1;31mNameError\u001B[0m                                 Traceback (most recent call last)",
      "Cell \u001B[1;32mIn[106], line 1\u001B[0m\n\u001B[1;32m----> 1\u001B[0m \u001B[43mgroup_ahi_df\u001B[49m\n",
      "\u001B[1;31mNameError\u001B[0m: name 'group_ahi_df' is not defined"
     ]
    }
   ],
   "source": [
    "group_ahi_df"
   ]
  },
  {
   "cell_type": "code",
   "execution_count": null,
   "id": "82f16e46-20bf-43be-8372-0846fb10d35c",
   "metadata": {},
   "outputs": [],
   "source": []
  }
 ],
 "metadata": {
  "kernelspec": {
   "display_name": "Python 3 (ipykernel)",
   "language": "python",
   "name": "python3"
  },
  "language_info": {
   "codemirror_mode": {
    "name": "ipython",
    "version": 3
   },
   "file_extension": ".py",
   "mimetype": "text/x-python",
   "name": "python",
   "nbconvert_exporter": "python",
   "pygments_lexer": "ipython3",
   "version": "3.9.0"
  }
 },
 "nbformat": 4,
 "nbformat_minor": 5
}
